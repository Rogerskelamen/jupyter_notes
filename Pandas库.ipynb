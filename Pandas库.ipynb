{
 "cells": [
  {
   "cell_type": "markdown",
   "metadata": {},
   "source": [
    "# 介绍 Pandas\n",
    "\n",
    "按照 Pandas 的官方介绍，这是一个建立在 Python 之上的一个高效的，**简单易用的数据结构和分析工具。**\n",
    "\n",
    "Pandas 的核心就是一个高效易用的数据类型：DataFrame。\n",
    "\n",
    "# DataFrame 数据框\n",
    "\n",
    "Pandas 数据框类是一个表(Table)类的数据结构：首行是栏目 (Column)，最左侧是行数 (Row Number)，也可以叫索引 (Index)。"
   ]
  },
  {
   "cell_type": "code",
   "execution_count": 8,
   "metadata": {},
   "outputs": [
    {
     "data": {
      "text/html": [
       "<div>\n",
       "<style scoped>\n",
       "    .dataframe tbody tr th:only-of-type {\n",
       "        vertical-align: middle;\n",
       "    }\n",
       "\n",
       "    .dataframe tbody tr th {\n",
       "        vertical-align: top;\n",
       "    }\n",
       "\n",
       "    .dataframe thead th {\n",
       "        text-align: right;\n",
       "    }\n",
       "</style>\n",
       "<table border=\"1\" class=\"dataframe\">\n",
       "  <thead>\n",
       "    <tr style=\"text-align: right;\">\n",
       "      <th></th>\n",
       "      <th>A</th>\n",
       "      <th>B</th>\n",
       "      <th>C</th>\n",
       "    </tr>\n",
       "  </thead>\n",
       "  <tbody>\n",
       "    <tr>\n",
       "      <th>id 1</th>\n",
       "      <td>NaN</td>\n",
       "      <td>NaN</td>\n",
       "      <td>NaN</td>\n",
       "    </tr>\n",
       "    <tr>\n",
       "      <th>id 2</th>\n",
       "      <td>NaN</td>\n",
       "      <td>NaN</td>\n",
       "      <td>NaN</td>\n",
       "    </tr>\n",
       "    <tr>\n",
       "      <th>id 3</th>\n",
       "      <td>NaN</td>\n",
       "      <td>NaN</td>\n",
       "      <td>NaN</td>\n",
       "    </tr>\n",
       "  </tbody>\n",
       "</table>\n",
       "</div>"
      ],
      "text/plain": [
       "        A    B    C\n",
       "id 1  NaN  NaN  NaN\n",
       "id 2  NaN  NaN  NaN\n",
       "id 3  NaN  NaN  NaN"
      ]
     },
     "execution_count": 8,
     "metadata": {},
     "output_type": "execute_result"
    }
   ],
   "source": [
    "import pandas as pd\n",
    "\n",
    "df = pd.DataFrame(columns=['A', 'B', 'C'], index=['id 1', 'id 2', 'id 3'])\n",
    "df"
   ]
  },
  {
   "cell_type": "markdown",
   "metadata": {},
   "source": [
    "查找一个列的数据："
   ]
  },
  {
   "cell_type": "code",
   "execution_count": 9,
   "metadata": {},
   "outputs": [
    {
     "data": {
      "text/plain": [
       "id 1    NaN\n",
       "id 2    NaN\n",
       "id 3    NaN\n",
       "Name: A, dtype: object"
      ]
     },
     "execution_count": 9,
     "metadata": {},
     "output_type": "execute_result"
    }
   ],
   "source": [
    "df['A']"
   ]
  },
  {
   "cell_type": "markdown",
   "metadata": {},
   "source": [
    "查找第一行的数据(不按标号找）："
   ]
  },
  {
   "cell_type": "code",
   "execution_count": 10,
   "metadata": {},
   "outputs": [
    {
     "data": {
      "text/plain": [
       "A    NaN\n",
       "B    NaN\n",
       "C    NaN\n",
       "Name: id 2, dtype: object"
      ]
     },
     "execution_count": 10,
     "metadata": {},
     "output_type": "execute_result"
    }
   ],
   "source": [
    "df.iloc[1]"
   ]
  },
  {
   "cell_type": "markdown",
   "metadata": {},
   "source": [
    "按标号查找一个行的数据："
   ]
  },
  {
   "cell_type": "code",
   "execution_count": 11,
   "metadata": {},
   "outputs": [
    {
     "data": {
      "text/plain": [
       "A    NaN\n",
       "B    NaN\n",
       "C    NaN\n",
       "Name: id 2, dtype: object"
      ]
     },
     "execution_count": 11,
     "metadata": {},
     "output_type": "execute_result"
    }
   ],
   "source": [
    "df.loc['id 2']"
   ]
  },
  {
   "cell_type": "markdown",
   "metadata": {},
   "source": [
    "按标号查找一个数据："
   ]
  },
  {
   "cell_type": "code",
   "execution_count": 12,
   "metadata": {},
   "outputs": [
    {
     "data": {
      "text/plain": [
       "nan"
      ]
     },
     "execution_count": 12,
     "metadata": {},
     "output_type": "execute_result"
    }
   ],
   "source": [
    "df.loc['id 1', 'A']"
   ]
  },
  {
   "cell_type": "markdown",
   "metadata": {},
   "source": [
    "修改一个数据:"
   ]
  },
  {
   "cell_type": "code",
   "execution_count": 14,
   "metadata": {},
   "outputs": [
    {
     "data": {
      "text/html": [
       "<div>\n",
       "<style scoped>\n",
       "    .dataframe tbody tr th:only-of-type {\n",
       "        vertical-align: middle;\n",
       "    }\n",
       "\n",
       "    .dataframe tbody tr th {\n",
       "        vertical-align: top;\n",
       "    }\n",
       "\n",
       "    .dataframe thead th {\n",
       "        text-align: right;\n",
       "    }\n",
       "</style>\n",
       "<table border=\"1\" class=\"dataframe\">\n",
       "  <thead>\n",
       "    <tr style=\"text-align: right;\">\n",
       "      <th></th>\n",
       "      <th>A</th>\n",
       "      <th>B</th>\n",
       "      <th>C</th>\n",
       "    </tr>\n",
       "  </thead>\n",
       "  <tbody>\n",
       "    <tr>\n",
       "      <th>id 1</th>\n",
       "      <td>5</td>\n",
       "      <td>NaN</td>\n",
       "      <td>NaN</td>\n",
       "    </tr>\n",
       "    <tr>\n",
       "      <th>id 2</th>\n",
       "      <td>NaN</td>\n",
       "      <td>NaN</td>\n",
       "      <td>NaN</td>\n",
       "    </tr>\n",
       "    <tr>\n",
       "      <th>id 3</th>\n",
       "      <td>NaN</td>\n",
       "      <td>NaN</td>\n",
       "      <td>NaN</td>\n",
       "    </tr>\n",
       "  </tbody>\n",
       "</table>\n",
       "</div>"
      ],
      "text/plain": [
       "        A    B    C\n",
       "id 1    5  NaN  NaN\n",
       "id 2  NaN  NaN  NaN\n",
       "id 3  NaN  NaN  NaN"
      ]
     },
     "execution_count": 14,
     "metadata": {},
     "output_type": "execute_result"
    }
   ],
   "source": [
    "df.loc['id 1', 'A'] = 5\n",
    "df"
   ]
  },
  {
   "cell_type": "markdown",
   "metadata": {},
   "source": [
    "---\n",
    "\n",
    "# 给 DataFrame 添加数据\n",
    "\n",
    "这里查找数据挺方便的，但是一个数据一个数据写入就显得很麻烦，那如何把一组数据一起写入 DataFrame 呢？这里介绍两种方案：一种是从程序内部的另外一个数据类型直接拷贝进去，另外一种是从程序外部例如文件读取进去。\n",
    "\n",
    "1. 从程序内部转换:"
   ]
  },
  {
   "cell_type": "code",
   "execution_count": 15,
   "metadata": {},
   "outputs": [
    {
     "name": "stdout",
     "output_type": "stream",
     "text": [
      "122\n"
     ]
    }
   ],
   "source": [
    "import pandas as pd\n",
    "\n",
    "stocks_dict = {'BABA': {'price': 122, 'shares': 20}, \n",
    "           'PDD': {'price': 40, 'shares': 50}, \n",
    "           'AAPL': {'price': 220, 'shares': 10}}\n",
    "\n",
    "print(stocks_dict['BABA']['price'])"
   ]
  },
  {
   "cell_type": "code",
   "execution_count": 17,
   "metadata": {},
   "outputs": [
    {
     "name": "stdout",
     "output_type": "stream",
     "text": [
      "        BABA  PDD  AAPL\n",
      "price    122   40   220\n",
      "shares    20   50    10\n",
      "\n",
      " 122\n"
     ]
    }
   ],
   "source": [
    "df = pd.DataFrame.from_dict(stocks_dict)  # 利用DataFrame对象下的from_dict方法\n",
    "print(df)\n",
    "\n",
    "print('\\n', df.loc['price', 'BABA'])"
   ]
  },
  {
   "cell_type": "markdown",
   "metadata": {},
   "source": [
    "这里有一个方向问题：因为创建 DataFrame 的时候我们的栏目是股票字符串，而行的索引是价格和股票数量，这和我们直觉上的查看方式：先查股票再看价格是相反的，那该如何纠正呢？"
   ]
  },
  {
   "cell_type": "code",
   "execution_count": 19,
   "metadata": {},
   "outputs": [
    {
     "name": "stdout",
     "output_type": "stream",
     "text": [
      "      price  shares\n",
      "BABA    122      20\n",
      "PDD      40      50\n",
      "AAPL    220      10\n",
      "\n",
      " 122\n"
     ]
    }
   ],
   "source": [
    "df = pd.DataFrame.from_dict(stocks_dict, orient='index')\n",
    "print(df)\n",
    "\n",
    "print('\\n', df.loc['BABA', 'price'])"
   ]
  },
  {
   "cell_type": "markdown",
   "metadata": {},
   "source": [
    "这里在从字典转换的时候标注方向: orient 可选参数就可以了。注意 Python 函数的可选参数是不一定要传入的，Pandas 还提供另外两种转换函数: from_item() 和 from_records()。"
   ]
  },
  {
   "cell_type": "markdown",
   "metadata": {},
   "source": [
    "2. 然后看第二种，从外部文件读取:"
   ]
  },
  {
   "cell_type": "markdown",
   "metadata": {},
   "source": [
    "首先我们创建一个数据源 .csv 格式文件:‘msft_class.csv'\n",
    "\n",
    "这个文件包含了微软股票，代号 \"MSFT\" 从 2019/9/3 到 2019/9/30 的日交易数据，在这里因为长度限制我只截取了一部分，但是足够用来示范了。\n",
    "\n",
    "现在我们来把这个文件直接读入 DataFrame 中:"
   ]
  },
  {
   "cell_type": "code",
   "execution_count": 20,
   "metadata": {},
   "outputs": [
    {
     "data": {
      "text/html": [
       "<div>\n",
       "<style scoped>\n",
       "    .dataframe tbody tr th:only-of-type {\n",
       "        vertical-align: middle;\n",
       "    }\n",
       "\n",
       "    .dataframe tbody tr th {\n",
       "        vertical-align: top;\n",
       "    }\n",
       "\n",
       "    .dataframe thead th {\n",
       "        text-align: right;\n",
       "    }\n",
       "</style>\n",
       "<table border=\"1\" class=\"dataframe\">\n",
       "  <thead>\n",
       "    <tr style=\"text-align: right;\">\n",
       "      <th></th>\n",
       "      <th>Open</th>\n",
       "      <th>High</th>\n",
       "      <th>Low</th>\n",
       "      <th>Close</th>\n",
       "      <th>Adj Close</th>\n",
       "      <th>Volume</th>\n",
       "    </tr>\n",
       "    <tr>\n",
       "      <th>Date</th>\n",
       "      <th></th>\n",
       "      <th></th>\n",
       "      <th></th>\n",
       "      <th></th>\n",
       "      <th></th>\n",
       "      <th></th>\n",
       "    </tr>\n",
       "  </thead>\n",
       "  <tbody>\n",
       "    <tr>\n",
       "      <th>9/3/19</th>\n",
       "      <td>136.61</td>\n",
       "      <td>137.20</td>\n",
       "      <td>135.70</td>\n",
       "      <td>136.04</td>\n",
       "      <td>136.04</td>\n",
       "      <td>18869300</td>\n",
       "    </tr>\n",
       "    <tr>\n",
       "      <th>9/4/19</th>\n",
       "      <td>137.30</td>\n",
       "      <td>137.69</td>\n",
       "      <td>136.48</td>\n",
       "      <td>137.63</td>\n",
       "      <td>137.63</td>\n",
       "      <td>17995900</td>\n",
       "    </tr>\n",
       "    <tr>\n",
       "      <th>9/5/19</th>\n",
       "      <td>139.11</td>\n",
       "      <td>140.38</td>\n",
       "      <td>138.76</td>\n",
       "      <td>140.05</td>\n",
       "      <td>140.05</td>\n",
       "      <td>26101800</td>\n",
       "    </tr>\n",
       "    <tr>\n",
       "      <th>9/6/19</th>\n",
       "      <td>140.03</td>\n",
       "      <td>140.18</td>\n",
       "      <td>138.20</td>\n",
       "      <td>139.10</td>\n",
       "      <td>139.10</td>\n",
       "      <td>20824500</td>\n",
       "    </tr>\n",
       "    <tr>\n",
       "      <th>9/9/19</th>\n",
       "      <td>139.59</td>\n",
       "      <td>139.75</td>\n",
       "      <td>136.46</td>\n",
       "      <td>137.52</td>\n",
       "      <td>137.52</td>\n",
       "      <td>25773900</td>\n",
       "    </tr>\n",
       "    <tr>\n",
       "      <th>9/10/19</th>\n",
       "      <td>136.80</td>\n",
       "      <td>136.89</td>\n",
       "      <td>134.51</td>\n",
       "      <td>136.08</td>\n",
       "      <td>136.08</td>\n",
       "      <td>28903400</td>\n",
       "    </tr>\n",
       "    <tr>\n",
       "      <th>9/11/19</th>\n",
       "      <td>135.91</td>\n",
       "      <td>136.27</td>\n",
       "      <td>135.09</td>\n",
       "      <td>136.12</td>\n",
       "      <td>136.12</td>\n",
       "      <td>24726100</td>\n",
       "    </tr>\n",
       "    <tr>\n",
       "      <th>9/12/19</th>\n",
       "      <td>137.85</td>\n",
       "      <td>138.42</td>\n",
       "      <td>136.87</td>\n",
       "      <td>137.52</td>\n",
       "      <td>137.52</td>\n",
       "      <td>27010000</td>\n",
       "    </tr>\n",
       "    <tr>\n",
       "      <th>9/13/19</th>\n",
       "      <td>137.78</td>\n",
       "      <td>138.06</td>\n",
       "      <td>136.57</td>\n",
       "      <td>137.32</td>\n",
       "      <td>137.32</td>\n",
       "      <td>23363100</td>\n",
       "    </tr>\n",
       "    <tr>\n",
       "      <th>9/16/19</th>\n",
       "      <td>135.83</td>\n",
       "      <td>136.70</td>\n",
       "      <td>135.66</td>\n",
       "      <td>136.33</td>\n",
       "      <td>136.33</td>\n",
       "      <td>16731400</td>\n",
       "    </tr>\n",
       "    <tr>\n",
       "      <th>9/17/19</th>\n",
       "      <td>136.96</td>\n",
       "      <td>137.52</td>\n",
       "      <td>136.43</td>\n",
       "      <td>137.39</td>\n",
       "      <td>137.39</td>\n",
       "      <td>17814200</td>\n",
       "    </tr>\n",
       "    <tr>\n",
       "      <th>9/18/19</th>\n",
       "      <td>137.36</td>\n",
       "      <td>138.67</td>\n",
       "      <td>136.53</td>\n",
       "      <td>138.52</td>\n",
       "      <td>138.52</td>\n",
       "      <td>23982100</td>\n",
       "    </tr>\n",
       "    <tr>\n",
       "      <th>9/19/19</th>\n",
       "      <td>140.30</td>\n",
       "      <td>142.37</td>\n",
       "      <td>140.07</td>\n",
       "      <td>141.07</td>\n",
       "      <td>141.07</td>\n",
       "      <td>35772100</td>\n",
       "    </tr>\n",
       "    <tr>\n",
       "      <th>9/20/19</th>\n",
       "      <td>141.01</td>\n",
       "      <td>141.65</td>\n",
       "      <td>138.25</td>\n",
       "      <td>139.44</td>\n",
       "      <td>139.44</td>\n",
       "      <td>39167300</td>\n",
       "    </tr>\n",
       "    <tr>\n",
       "      <th>9/23/19</th>\n",
       "      <td>139.23</td>\n",
       "      <td>139.63</td>\n",
       "      <td>138.44</td>\n",
       "      <td>139.14</td>\n",
       "      <td>139.14</td>\n",
       "      <td>17139300</td>\n",
       "    </tr>\n",
       "    <tr>\n",
       "      <th>9/24/19</th>\n",
       "      <td>140.36</td>\n",
       "      <td>140.69</td>\n",
       "      <td>136.88</td>\n",
       "      <td>137.38</td>\n",
       "      <td>137.38</td>\n",
       "      <td>29773200</td>\n",
       "    </tr>\n",
       "    <tr>\n",
       "      <th>9/25/19</th>\n",
       "      <td>137.50</td>\n",
       "      <td>139.96</td>\n",
       "      <td>136.03</td>\n",
       "      <td>139.36</td>\n",
       "      <td>139.36</td>\n",
       "      <td>21382000</td>\n",
       "    </tr>\n",
       "    <tr>\n",
       "      <th>9/26/19</th>\n",
       "      <td>139.44</td>\n",
       "      <td>140.18</td>\n",
       "      <td>138.44</td>\n",
       "      <td>139.54</td>\n",
       "      <td>139.54</td>\n",
       "      <td>17456600</td>\n",
       "    </tr>\n",
       "    <tr>\n",
       "      <th>9/27/19</th>\n",
       "      <td>140.15</td>\n",
       "      <td>140.36</td>\n",
       "      <td>136.65</td>\n",
       "      <td>137.73</td>\n",
       "      <td>137.73</td>\n",
       "      <td>22477700</td>\n",
       "    </tr>\n",
       "    <tr>\n",
       "      <th>9/30/19</th>\n",
       "      <td>138.05</td>\n",
       "      <td>139.22</td>\n",
       "      <td>137.78</td>\n",
       "      <td>139.03</td>\n",
       "      <td>139.03</td>\n",
       "      <td>17280900</td>\n",
       "    </tr>\n",
       "  </tbody>\n",
       "</table>\n",
       "</div>"
      ],
      "text/plain": [
       "           Open    High     Low   Close  Adj Close    Volume\n",
       "Date                                                        \n",
       "9/3/19   136.61  137.20  135.70  136.04     136.04  18869300\n",
       "9/4/19   137.30  137.69  136.48  137.63     137.63  17995900\n",
       "9/5/19   139.11  140.38  138.76  140.05     140.05  26101800\n",
       "9/6/19   140.03  140.18  138.20  139.10     139.10  20824500\n",
       "9/9/19   139.59  139.75  136.46  137.52     137.52  25773900\n",
       "9/10/19  136.80  136.89  134.51  136.08     136.08  28903400\n",
       "9/11/19  135.91  136.27  135.09  136.12     136.12  24726100\n",
       "9/12/19  137.85  138.42  136.87  137.52     137.52  27010000\n",
       "9/13/19  137.78  138.06  136.57  137.32     137.32  23363100\n",
       "9/16/19  135.83  136.70  135.66  136.33     136.33  16731400\n",
       "9/17/19  136.96  137.52  136.43  137.39     137.39  17814200\n",
       "9/18/19  137.36  138.67  136.53  138.52     138.52  23982100\n",
       "9/19/19  140.30  142.37  140.07  141.07     141.07  35772100\n",
       "9/20/19  141.01  141.65  138.25  139.44     139.44  39167300\n",
       "9/23/19  139.23  139.63  138.44  139.14     139.14  17139300\n",
       "9/24/19  140.36  140.69  136.88  137.38     137.38  29773200\n",
       "9/25/19  137.50  139.96  136.03  139.36     139.36  21382000\n",
       "9/26/19  139.44  140.18  138.44  139.54     139.54  17456600\n",
       "9/27/19  140.15  140.36  136.65  137.73     137.73  22477700\n",
       "9/30/19  138.05  139.22  137.78  139.03     139.03  17280900"
      ]
     },
     "execution_count": 20,
     "metadata": {},
     "output_type": "execute_result"
    }
   ],
   "source": [
    "msft_df = pd.read_csv('./msft_class.csv', index_col=['Date'])\n",
    "msft_df"
   ]
  },
  {
   "cell_type": "markdown",
   "metadata": {},
   "source": [
    "这里用了一行非常简单的函数 read_csv() 就实现了我们在读写文件里用了5-6行实现的功能。参数包含了文件名，和一个可选参数 index_col，这个参数是告诉 Pandas 用文件中的某一个栏目来当作行数的索引。\n",
    "\n",
    "注意虽然我们只用了一个日期做索引，但是这里的 index_col 输入的是一个**列表**，在后面的教程会讲到 DataFrame 支持 多重索引。"
   ]
  },
  {
   "cell_type": "markdown",
   "metadata": {},
   "source": [
    "# DataFrame 做数据分析\n",
    "\n",
    "我们还是来调用一下 DataFrame 提供的界面 (Interface)，来看看这个神奇的数据结构可以给我们带来怎么样便利的操作:"
   ]
  },
  {
   "cell_type": "code",
   "execution_count": 21,
   "metadata": {},
   "outputs": [
    {
     "data": {
      "text/html": [
       "<div>\n",
       "<style scoped>\n",
       "    .dataframe tbody tr th:only-of-type {\n",
       "        vertical-align: middle;\n",
       "    }\n",
       "\n",
       "    .dataframe tbody tr th {\n",
       "        vertical-align: top;\n",
       "    }\n",
       "\n",
       "    .dataframe thead th {\n",
       "        text-align: right;\n",
       "    }\n",
       "</style>\n",
       "<table border=\"1\" class=\"dataframe\">\n",
       "  <thead>\n",
       "    <tr style=\"text-align: right;\">\n",
       "      <th></th>\n",
       "      <th>Open</th>\n",
       "      <th>High</th>\n",
       "      <th>Low</th>\n",
       "      <th>Close</th>\n",
       "      <th>Adj Close</th>\n",
       "      <th>Volume</th>\n",
       "    </tr>\n",
       "    <tr>\n",
       "      <th>Date</th>\n",
       "      <th></th>\n",
       "      <th></th>\n",
       "      <th></th>\n",
       "      <th></th>\n",
       "      <th></th>\n",
       "      <th></th>\n",
       "    </tr>\n",
       "  </thead>\n",
       "  <tbody>\n",
       "    <tr>\n",
       "      <th>9/3/19</th>\n",
       "      <td>136.61</td>\n",
       "      <td>137.20</td>\n",
       "      <td>135.70</td>\n",
       "      <td>136.04</td>\n",
       "      <td>136.04</td>\n",
       "      <td>18869300</td>\n",
       "    </tr>\n",
       "    <tr>\n",
       "      <th>9/4/19</th>\n",
       "      <td>137.30</td>\n",
       "      <td>137.69</td>\n",
       "      <td>136.48</td>\n",
       "      <td>137.63</td>\n",
       "      <td>137.63</td>\n",
       "      <td>17995900</td>\n",
       "    </tr>\n",
       "    <tr>\n",
       "      <th>9/5/19</th>\n",
       "      <td>139.11</td>\n",
       "      <td>140.38</td>\n",
       "      <td>138.76</td>\n",
       "      <td>140.05</td>\n",
       "      <td>140.05</td>\n",
       "      <td>26101800</td>\n",
       "    </tr>\n",
       "    <tr>\n",
       "      <th>9/6/19</th>\n",
       "      <td>140.03</td>\n",
       "      <td>140.18</td>\n",
       "      <td>138.20</td>\n",
       "      <td>139.10</td>\n",
       "      <td>139.10</td>\n",
       "      <td>20824500</td>\n",
       "    </tr>\n",
       "    <tr>\n",
       "      <th>9/9/19</th>\n",
       "      <td>139.59</td>\n",
       "      <td>139.75</td>\n",
       "      <td>136.46</td>\n",
       "      <td>137.52</td>\n",
       "      <td>137.52</td>\n",
       "      <td>25773900</td>\n",
       "    </tr>\n",
       "  </tbody>\n",
       "</table>\n",
       "</div>"
      ],
      "text/plain": [
       "          Open    High     Low   Close  Adj Close    Volume\n",
       "Date                                                       \n",
       "9/3/19  136.61  137.20  135.70  136.04     136.04  18869300\n",
       "9/4/19  137.30  137.69  136.48  137.63     137.63  17995900\n",
       "9/5/19  139.11  140.38  138.76  140.05     140.05  26101800\n",
       "9/6/19  140.03  140.18  138.20  139.10     139.10  20824500\n",
       "9/9/19  139.59  139.75  136.46  137.52     137.52  25773900"
      ]
     },
     "execution_count": 21,
     "metadata": {},
     "output_type": "execute_result"
    }
   ],
   "source": [
    "# 输出前五行数据\n",
    "msft_df.head(5)"
   ]
  },
  {
   "cell_type": "markdown",
   "metadata": {},
   "source": [
    "`describe()` 是用来描述 DataFrame 里面每一栏目，也就是每一列的描述性统计分析。\n",
    "\n",
    "通过调用这个函数，同样我们会对数据库的整体样本有一个统计了解。"
   ]
  },
  {
   "cell_type": "code",
   "execution_count": 23,
   "metadata": {},
   "outputs": [
    {
     "data": {
      "text/html": [
       "<div>\n",
       "<style scoped>\n",
       "    .dataframe tbody tr th:only-of-type {\n",
       "        vertical-align: middle;\n",
       "    }\n",
       "\n",
       "    .dataframe tbody tr th {\n",
       "        vertical-align: top;\n",
       "    }\n",
       "\n",
       "    .dataframe thead th {\n",
       "        text-align: right;\n",
       "    }\n",
       "</style>\n",
       "<table border=\"1\" class=\"dataframe\">\n",
       "  <thead>\n",
       "    <tr style=\"text-align: right;\">\n",
       "      <th></th>\n",
       "      <th>Open</th>\n",
       "      <th>High</th>\n",
       "      <th>Low</th>\n",
       "      <th>Close</th>\n",
       "      <th>Adj Close</th>\n",
       "      <th>Volume</th>\n",
       "    </tr>\n",
       "  </thead>\n",
       "  <tbody>\n",
       "    <tr>\n",
       "      <th>count</th>\n",
       "      <td>20.000000</td>\n",
       "      <td>20.000000</td>\n",
       "      <td>20.000000</td>\n",
       "      <td>20.000000</td>\n",
       "      <td>20.000000</td>\n",
       "      <td>2.000000e+01</td>\n",
       "    </tr>\n",
       "    <tr>\n",
       "      <th>mean</th>\n",
       "      <td>138.358500</td>\n",
       "      <td>139.089500</td>\n",
       "      <td>136.990000</td>\n",
       "      <td>138.115500</td>\n",
       "      <td>138.115500</td>\n",
       "      <td>2.362724e+07</td>\n",
       "    </tr>\n",
       "    <tr>\n",
       "      <th>std</th>\n",
       "      <td>1.592632</td>\n",
       "      <td>1.704698</td>\n",
       "      <td>1.376491</td>\n",
       "      <td>1.437049</td>\n",
       "      <td>1.437049</td>\n",
       "      <td>6.276681e+06</td>\n",
       "    </tr>\n",
       "    <tr>\n",
       "      <th>min</th>\n",
       "      <td>135.830000</td>\n",
       "      <td>136.270000</td>\n",
       "      <td>134.510000</td>\n",
       "      <td>136.040000</td>\n",
       "      <td>136.040000</td>\n",
       "      <td>1.673140e+07</td>\n",
       "    </tr>\n",
       "    <tr>\n",
       "      <th>25%</th>\n",
       "      <td>137.215000</td>\n",
       "      <td>137.647500</td>\n",
       "      <td>136.330000</td>\n",
       "      <td>137.365000</td>\n",
       "      <td>137.365000</td>\n",
       "      <td>1.795048e+07</td>\n",
       "    </tr>\n",
       "    <tr>\n",
       "      <th>50%</th>\n",
       "      <td>137.950000</td>\n",
       "      <td>139.425000</td>\n",
       "      <td>136.610000</td>\n",
       "      <td>137.680000</td>\n",
       "      <td>137.680000</td>\n",
       "      <td>2.292040e+07</td>\n",
       "    </tr>\n",
       "    <tr>\n",
       "      <th>75%</th>\n",
       "      <td>139.700000</td>\n",
       "      <td>140.225000</td>\n",
       "      <td>138.212500</td>\n",
       "      <td>139.195000</td>\n",
       "      <td>139.195000</td>\n",
       "      <td>2.632885e+07</td>\n",
       "    </tr>\n",
       "    <tr>\n",
       "      <th>max</th>\n",
       "      <td>141.010000</td>\n",
       "      <td>142.370000</td>\n",
       "      <td>140.070000</td>\n",
       "      <td>141.070000</td>\n",
       "      <td>141.070000</td>\n",
       "      <td>3.916730e+07</td>\n",
       "    </tr>\n",
       "  </tbody>\n",
       "</table>\n",
       "</div>"
      ],
      "text/plain": [
       "             Open        High         Low       Close   Adj Close  \\\n",
       "count   20.000000   20.000000   20.000000   20.000000   20.000000   \n",
       "mean   138.358500  139.089500  136.990000  138.115500  138.115500   \n",
       "std      1.592632    1.704698    1.376491    1.437049    1.437049   \n",
       "min    135.830000  136.270000  134.510000  136.040000  136.040000   \n",
       "25%    137.215000  137.647500  136.330000  137.365000  137.365000   \n",
       "50%    137.950000  139.425000  136.610000  137.680000  137.680000   \n",
       "75%    139.700000  140.225000  138.212500  139.195000  139.195000   \n",
       "max    141.010000  142.370000  140.070000  141.070000  141.070000   \n",
       "\n",
       "             Volume  \n",
       "count  2.000000e+01  \n",
       "mean   2.362724e+07  \n",
       "std    6.276681e+06  \n",
       "min    1.673140e+07  \n",
       "25%    1.795048e+07  \n",
       "50%    2.292040e+07  \n",
       "75%    2.632885e+07  \n",
       "max    3.916730e+07  "
      ]
     },
     "execution_count": 23,
     "metadata": {},
     "output_type": "execute_result"
    }
   ],
   "source": [
    "msft_df.describe()"
   ]
  },
  {
   "cell_type": "code",
   "execution_count": 24,
   "metadata": {},
   "outputs": [
    {
     "data": {
      "text/plain": [
       "<AxesSubplot:xlabel='Date'>"
      ]
     },
     "execution_count": 24,
     "metadata": {},
     "output_type": "execute_result"
    },
    {
     "data": {
      "image/png": "[encoded data removed]",
      "text/plain": [
       "<Figure size 432x288 with 1 Axes>"
      ]
     },
     "metadata": {
      "needs_background": "light"
     },
     "output_type": "display_data"
    }
   ],
   "source": [
    "%matplotlib inline\n",
    "# 配合matplotlib来用plot()画一个图\n",
    "msft_df['Close'].plot()"
   ]
  },
  {
   "cell_type": "markdown",
   "metadata": {},
   "source": [
    "这里用到了另外一个常用库: Matplotlib，是用来绘图和做数据可视化的，这里的 inline 意思是在之后的绘图过程中将直接在 Jupyter 笔记本里呈现。"
   ]
  },
  {
   "cell_type": "markdown",
   "metadata": {},
   "source": [
    "现在我们来做一些进阶的金融分析："
   ]
  },
  {
   "cell_type": "code",
   "execution_count": 27,
   "metadata": {},
   "outputs": [
    {
     "name": "stdout",
     "output_type": "stream",
     "text": [
      "1.7656637352038715\n",
      "\n",
      "0.010500424378608715\n"
     ]
    }
   ],
   "source": [
    "import numpy as np\n",
    "\n",
    "r = msft_df['Close'].pct_change(1) # 每日股价回报 %\n",
    "r = r.dropna() # 去掉没有回报，或者不交易的日子\n",
    "\n",
    "sharpe_ratio = r.mean() / r.std() * np.sqrt(252) # 计算股票 夏普比率 = 平均回报 / 回报波动 * 更号(252交易日)\n",
    "volatility = np.std(r) # 计算股票 回报波动率\n",
    "\n",
    "print(sharpe_ratio)\n",
    "print()\n",
    "print(volatility)"
   ]
  },
  {
   "cell_type": "markdown",
   "metadata": {},
   "source": [
    "这里通过调用 `pct_change(1)` 函数，DataFrame 返还了微软股票每日 Close 价格的百分比变化，也就是股价的日回报率。然后通过调用 numpy 库的计算 `mean()`，`std()`, `sqrt()` 来计算股票分析中常用的夏普比率，波动率。\n",
    "\n",
    "这里 pct_change(1) 中的1，代表了是一行隔一行的计算，也就是今天和昨天的 Close 价格的百分比变化，同样的我们可以用 shift() 函数:"
   ]
  },
  {
   "cell_type": "code",
   "execution_count": 28,
   "metadata": {},
   "outputs": [],
   "source": [
    "r = msft_df['Close'] / msft_df['Close'].shift(1) - 1"
   ]
  },
  {
   "cell_type": "markdown",
   "metadata": {},
   "source": [
    "shift(1) 函数是指把 DataFrame 中的每一行往后移动一行。这样就相当于 今天的 Close 价格除以 昨天的 Close 价格，再减去1，同样的实现了百分比变化。"
   ]
  },
  {
   "cell_type": "markdown",
   "metadata": {},
   "source": [
    "# 从 DataFrame 导出数据\n",
    "\n",
    "这里介绍的是 Pandas 提供的方案：\n",
    "\n",
    "- 保存到剪贴板 (Clipboard)\n",
    "\n",
    "Pandas 可以让你把 DataFrame 里面的数据直接复制到电脑的黏贴版里。这个方法出奇的效率，只需要调用一个函数，你就可以把所有数据复制黏贴到想要保存的文件里："
   ]
  },
  {
   "cell_type": "code",
   "execution_count": null,
   "metadata": {},
   "outputs": [],
   "source": [
    "msft_df.to_clipboard()"
   ]
  },
  {
   "cell_type": "markdown",
   "metadata": {},
   "source": [
    "在调用了这个函数之后，打开 Excel 或者某个IDE，直接黏贴就可以了\n",
    "\n",
    "- 保存到 .csv，和其他格式\n",
    "\n",
    "这个方法就是把 DataFrame 里的数据保存到指定的文件格式中，这里介绍的是 .csv 格式："
   ]
  },
  {
   "cell_type": "code",
   "execution_count": null,
   "metadata": {},
   "outputs": [],
   "source": [
    "r.to_csv('msft_daily_return.csv')"
   ]
  },
  {
   "cell_type": "markdown",
   "metadata": {},
   "source": [
    "然后在同一个文件夹目录下就会看到写好的文件，这个方法也非常方便，而且你可以反复的通过 Pandas 提供的界面 `read_csv()` 和 `to_csv()` 来保存，读取数据。"
   ]
  }
 ],
 "metadata": {
  "kernelspec": {
   "display_name": "Python 3",
   "language": "python",
   "name": "python3"
  },
  "language_info": {
   "codemirror_mode": {
    "name": "ipython",
    "version": 3
   },
   "file_extension": ".py",
   "mimetype": "text/x-python",
   "name": "python",
   "nbconvert_exporter": "python",
   "pygments_lexer": "ipython3",
   "version": "3.8.5"
  },
  "toc": {
   "base_numbering": 1,
   "nav_menu": {},
   "number_sections": false,
   "sideBar": true,
   "skip_h1_title": false,
   "title_cell": "Table of Contents",
   "title_sidebar": "Contents",
   "toc_cell": false,
   "toc_position": {},
   "toc_section_display": true,
   "toc_window_display": false
  }
 },
 "nbformat": 4,
 "nbformat_minor": 4
}
